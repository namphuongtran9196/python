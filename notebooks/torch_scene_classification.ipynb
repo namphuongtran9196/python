{
 "cells": [
  {
   "attachments": {},
   "cell_type": "markdown",
   "metadata": {},
   "source": [
    "## Import library"
   ]
  },
  {
   "cell_type": "code",
   "execution_count": 1,
   "metadata": {},
   "outputs": [
    {
     "name": "stderr",
     "output_type": "stream",
     "text": [
      "2023-04-28 16:37:48.025373: I tensorflow/core/platform/cpu_feature_guard.cc:182] This TensorFlow binary is optimized to use available CPU instructions in performance-critical operations.\n",
      "To enable the following instructions: AVX2 FMA, in other operations, rebuild TensorFlow with the appropriate compiler flags.\n"
     ]
    }
   ],
   "source": [
    "import os\n",
    "import sys\n",
    "lib_path = os.path.abspath(\"\").replace(\"notebooks\", \"src\")\n",
    "sys.path.append(lib_path)\n",
    "import torch\n",
    "import pandas\n",
    "from data.dataloader import TorchDataset\n",
    "from torch.utils.data import DataLoader\n",
    "from utils.torch.trainer import TorchTrainer\n",
    "import torchvision.transforms as transforms\n",
    "from torch import nn\n",
    "from utils.torch.callbacks import CheckpointsCallback"
   ]
  },
  {
   "attachments": {},
   "cell_type": "markdown",
   "metadata": {},
   "source": [
    "## Hyperparameters"
   ]
  },
  {
   "cell_type": "code",
   "execution_count": 2,
   "metadata": {},
   "outputs": [],
   "source": [
    "batch_size = 32\n",
    "im_size = (224,224)\n",
    "epochs=5"
   ]
  },
  {
   "attachments": {},
   "cell_type": "markdown",
   "metadata": {},
   "source": [
    "## Dataset"
   ]
  },
  {
   "attachments": {},
   "cell_type": "markdown",
   "metadata": {},
   "source": [
    "You can download dataset from here: https://www.kaggle.com/datasets/nitishabharathi/scene-classification"
   ]
  },
  {
   "cell_type": "code",
   "execution_count": 3,
   "metadata": {},
   "outputs": [],
   "source": [
    "train = pandas.read_csv(\"train-scene-classification/train.csv\")\n",
    "images_name = train[\"image_name\"].tolist()\n",
    "labels = train[\"label\"].tolist()\n",
    "images_name = [\"train-scene-classification/train/\" + x for x in images_name]\n",
    "labels = [int(x) for x in labels]\n",
    "num_classes = len(set(labels))"
   ]
  },
  {
   "cell_type": "code",
   "execution_count": 4,
   "metadata": {},
   "outputs": [],
   "source": [
    "transform = transforms.Compose([transforms.ToTensor()])\n",
    "train_data = TorchDataset(images_name[:-128], labels[:-128], im_size=im_size, transform=transform)\n",
    "test_data = TorchDataset(images_name[-128:], labels[-128:], im_size=im_size, transform=transform)\n",
    "train_dataloader = DataLoader(train_data, batch_size=batch_size, shuffle=True)\n",
    "test_dataloader = DataLoader(test_data, batch_size=32, shuffle=False)"
   ]
  },
  {
   "attachments": {},
   "cell_type": "markdown",
   "metadata": {},
   "source": [
    "## Model"
   ]
  },
  {
   "cell_type": "code",
   "execution_count": 5,
   "metadata": {},
   "outputs": [],
   "source": [
    "loss_fn = torch.nn.CrossEntropyLoss()\n",
    "\n",
    "class SimpleClassification(TorchTrainer):\n",
    "    def __init__(self, num_classes, im_size=(224,224), **kwargs):\n",
    "        super(SimpleClassification, self).__init__(**kwargs)\n",
    "        self.network = nn.Sequential(\n",
    "            nn.Conv2d(3, 16, 3, padding=1),\n",
    "            nn.ReLU(),\n",
    "            nn.MaxPool2d(2),\n",
    "            nn.Conv2d(16, 32, 3, padding=1),\n",
    "            nn.ReLU(),\n",
    "            nn.MaxPool2d(2),\n",
    "            nn.Conv2d(32, 64, 3, padding=1),\n",
    "            nn.ReLU(),\n",
    "            nn.MaxPool2d(2),\n",
    "            nn.Flatten(),\n",
    "            nn.Linear(im_size[0]//8 * im_size[1]//8 * 64, 128),\n",
    "            nn.ReLU(),\n",
    "            nn.Linear(128, num_classes)\n",
    "        )\n",
    "    def forward(self, x):\n",
    "        return self.network(x)\n",
    "    \n",
    "    def train_step(self, batch):\n",
    "        self.optimizer.zero_grad()\n",
    "        \n",
    "        inputs, labels = batch[\"inputs\"], batch[\"labels\"]\n",
    "        \n",
    "        logits = self(inputs)\n",
    "        \n",
    "        loss = loss_fn(logits, labels)\n",
    "    \n",
    "        loss.backward()\n",
    "        \n",
    "        self.optimizer.step()\n",
    "        \n",
    "        acc = (logits.argmax(dim=1) == labels).float().mean()\n",
    "        \n",
    "        return {\"loss\": loss.item(), \"acc\": acc.item()}\n",
    "    def test_step(self, batch):\n",
    "        inputs, labels = batch[\"inputs\"], batch[\"labels\"]\n",
    "        \n",
    "        logits = self(inputs)\n",
    "        \n",
    "        loss = loss_fn(logits, labels)\n",
    "        \n",
    "        acc = (logits.argmax(dim=1) == labels).float().mean()\n",
    "        \n",
    "        return {\"loss\": loss.item(), \"acc\": acc.item()}\n",
    "    \n",
    "model = SimpleClassification(num_classes, im_size=im_size)"
   ]
  },
  {
   "attachments": {},
   "cell_type": "markdown",
   "metadata": {},
   "source": [
    "## Training"
   ]
  },
  {
   "cell_type": "code",
   "execution_count": 6,
   "metadata": {},
   "outputs": [
    {
     "name": "stderr",
     "output_type": "stream",
     "text": [
      "2023-04-28 16:37:51,724 - Training - INFO - Epoch 1/5\n",
      "loss: 0.5816 acc: 0.8000 : : 530it [04:27,  1.98it/s]                       \n",
      "2023-04-28 16:42:19,523 - Training - INFO - Epoch 1 - loss: 1.1517\n",
      "2023-04-28 16:42:19,524 - Training - INFO - Epoch 1 - acc: 0.5397\n",
      "2023-04-28 16:42:19,524 - Training - INFO - Epoch 2/5\n",
      "loss: 0.8913 acc: 0.6000 : : 530it [03:59,  2.21it/s]                       \n",
      "2023-04-28 16:46:18,881 - Training - INFO - Epoch 2 - loss: 0.7973\n",
      "2023-04-28 16:46:18,882 - Training - INFO - Epoch 2 - acc: 0.6891\n",
      "2023-04-28 16:46:18,883 - Training - INFO - Epoch 3/5\n",
      "loss: 1.4585 acc: 0.6000 : : 530it [04:06,  2.15it/s]                       \n",
      "2023-04-28 16:50:25,691 - Training - INFO - Epoch 3 - loss: 0.6346\n",
      "2023-04-28 16:50:25,692 - Training - INFO - Epoch 3 - acc: 0.7593\n",
      "2023-04-28 16:50:25,692 - Training - INFO - Epoch 4/5\n",
      "loss: 1.2965 acc: 0.6000 : : 530it [04:21,  2.03it/s]                       \n",
      "2023-04-28 16:54:46,785 - Training - INFO - Epoch 4 - loss: 0.4796\n",
      "2023-04-28 16:54:46,786 - Training - INFO - Epoch 4 - acc: 0.8249\n",
      "2023-04-28 16:54:46,787 - Training - INFO - Epoch 5/5\n",
      "loss: 0.2610 acc: 0.9000 : : 530it [03:55,  2.25it/s]                       \n",
      "2023-04-28 16:58:42,316 - Training - INFO - Epoch 5 - loss: 0.3107\n",
      "2023-04-28 16:58:42,316 - Training - INFO - Epoch 5 - acc: 0.8864\n"
     ]
    }
   ],
   "source": [
    "ckpt_callback = CheckpointsCallback(\"checkpoints\", save_freq=1000, keep_one_only=True)\n",
    "model.compile(optimizer=\"sgd\")\n",
    "model.fit(train_dataloader, epochs=epochs, callbacks=[ckpt_callback])"
   ]
  },
  {
   "attachments": {},
   "cell_type": "markdown",
   "metadata": {},
   "source": [
    "## Testing"
   ]
  },
  {
   "cell_type": "code",
   "execution_count": 7,
   "metadata": {},
   "outputs": [],
   "source": [
    "model = SimpleClassification.load(\"checkpoints/checkpoint_.pt\")\n",
    "y_true = []\n",
    "y_pred = []\n",
    "for batch in test_dataloader:\n",
    "    inputs, labels = batch[\"inputs\"], batch[\"labels\"]\n",
    "    logits = model.predict(inputs)\n",
    "    y_true += labels.tolist()\n",
    "    y_pred += logits.argmax(dim=1).tolist()"
   ]
  },
  {
   "cell_type": "code",
   "execution_count": 8,
   "metadata": {},
   "outputs": [
    {
     "name": "stdout",
     "output_type": "stream",
     "text": [
      "0.703125\n"
     ]
    }
   ],
   "source": [
    "from sklearn.metrics import accuracy_score\n",
    "print(accuracy_score(y_true, y_pred))"
   ]
  }
 ],
 "metadata": {
  "accelerator": "GPU",
  "colab": {
   "collapsed_sections": [
    "BcdRRwBJEWv6",
    "-EzGsC3skr4G",
    "UW9op63lEaIq",
    "1o7-fy58FMo6",
    "YfBdDdlsFPLq",
    "NqFEInezFSS_",
    "Do3o__q8FUMG",
    "wheYSKCZFWS6",
    "1cV6iOQQuLwb"
   ],
   "provenance": []
  },
  "gpuClass": "standard",
  "kernelspec": {
   "display_name": "kuhaku",
   "language": "python",
   "name": "python3"
  },
  "language_info": {
   "codemirror_mode": {
    "name": "ipython",
    "version": 3
   },
   "file_extension": ".py",
   "mimetype": "text/x-python",
   "name": "python",
   "nbconvert_exporter": "python",
   "pygments_lexer": "ipython3",
   "version": "3.9.16"
  }
 },
 "nbformat": 4,
 "nbformat_minor": 4
}
